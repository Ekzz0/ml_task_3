{
 "cells": [
  {
   "cell_type": "code",
   "execution_count": 1,
   "metadata": {},
   "outputs": [],
   "source": [
    "import pandas as pd \n",
    "from sklearn.tree import DecisionTreeClassifier\n",
    "from sklearn.linear_model import LogisticRegression\n",
    "from sklearn.svm import SVC\n",
    "from sklearn import datasets \n",
    "from sklearn.decomposition import PCA\n",
    "from sklearn.manifold import TSNE \n",
    "from sklearn.model_selection import train_test_split\n",
    "from modules import transform_fit_predict, fit_predict, print_metrics, print_time_report\n",
    "\n",
    "%load_ext autoreload\n",
    "%autoreload 2\n",
    "random_state = 42"
   ]
  },
  {
   "cell_type": "markdown",
   "metadata": {},
   "source": [
    "### Загрузим датасет:"
   ]
  },
  {
   "cell_type": "code",
   "execution_count": 2,
   "metadata": {},
   "outputs": [],
   "source": [
    "df = datasets.load_digits()\n",
    "X = df.data\n",
    "y = df.target"
   ]
  },
  {
   "cell_type": "markdown",
   "metadata": {},
   "source": [
    "### Создадим необходимые модели и преобразователи:"
   ]
  },
  {
   "cell_type": "code",
   "execution_count": 3,
   "metadata": {},
   "outputs": [],
   "source": [
    "models = {\n",
    "    'SVC': SVC(random_state=random_state),\n",
    "    'DecisionTreeClassifier': DecisionTreeClassifier(random_state=random_state),\n",
    "    'LogisticRegression' : LogisticRegression(max_iter=10000, random_state=random_state),\n",
    "}"
   ]
  },
  {
   "cell_type": "code",
   "execution_count": 4,
   "metadata": {},
   "outputs": [],
   "source": [
    "transformers = {\n",
    "    'PCA': PCA(n_components=0.90, random_state=random_state),\n",
    "    'TSNE': TSNE(n_components=2, random_state=17)\n",
    "}"
   ]
  },
  {
   "cell_type": "code",
   "execution_count": 6,
   "metadata": {},
   "outputs": [],
   "source": [
    "X_train, X_test, y_train, y_test = train_test_split(X, y, test_size=0.25, random_state=random_state, stratify=y)\n",
    "\n",
    "eval_data = {\n",
    "    'X_train': X_train,\n",
    "    'X_test': X_test,\n",
    "    'y_train': y_train,\n",
    "    'y_test': y_test\n",
    "}"
   ]
  },
  {
   "cell_type": "markdown",
   "metadata": {},
   "source": [
    "### Обучим модели и получим предикты без уменьшения размерности:"
   ]
  },
  {
   "cell_type": "code",
   "execution_count": 7,
   "metadata": {},
   "outputs": [],
   "source": [
    "models_clear, predicts_clear = fit_predict(models, eval_data)"
   ]
  },
  {
   "cell_type": "markdown",
   "metadata": {},
   "source": [
    "### Обучим модели и получим предикты с уменьшением размерности:"
   ]
  },
  {
   "cell_type": "code",
   "execution_count": 8,
   "metadata": {},
   "outputs": [],
   "source": [
    "data = {\n",
    "    'X': X,\n",
    "    'y': y,\n",
    "\n",
    "}\n",
    "\n",
    "models_transformed, transformers, times, predicts_transformed = transform_fit_predict(models, data, transformers)"
   ]
  },
  {
   "cell_type": "markdown",
   "metadata": {},
   "source": [
    "### Результаты:"
   ]
  },
  {
   "cell_type": "code",
   "execution_count": 9,
   "metadata": {},
   "outputs": [
    {
     "name": "stdout",
     "output_type": "stream",
     "text": [
      "Model SVC results Without transform :\n",
      "0.9911111111111112 \n",
      "\n",
      "Model DecisionTreeClassifier results Without transform :\n",
      "0.8244444444444444 \n",
      "\n",
      "Model LogisticRegression results Without transform :\n",
      "0.9622222222222222 \n",
      "\n"
     ]
    }
   ],
   "source": [
    "accuracy_clear = print_metrics(predicts_clear, models_clear.keys(), y_test, message = 'Without transform')"
   ]
  },
  {
   "cell_type": "code",
   "execution_count": 10,
   "metadata": {},
   "outputs": [
    {
     "name": "stdout",
     "output_type": "stream",
     "text": [
      "Model SVC results With transform PCA:\n",
      "0.9866666666666667 \n",
      "\n",
      "Model DecisionTreeClassifier results With transform PCA:\n",
      "0.86 \n",
      "\n",
      "Model LogisticRegression results With transform PCA:\n",
      "0.9288888888888889 \n",
      "\n"
     ]
    }
   ],
   "source": [
    "accuracy_pca = print_metrics(predicts_transformed['PCA'], models_transformed['PCA'].keys(), y_test, transformer_name='PCA', message = 'With transform')"
   ]
  },
  {
   "cell_type": "code",
   "execution_count": 11,
   "metadata": {},
   "outputs": [
    {
     "name": "stdout",
     "output_type": "stream",
     "text": [
      "Model SVC results With transform TSNE:\n",
      "0.9577777777777777 \n",
      "\n",
      "Model DecisionTreeClassifier results With transform TSNE:\n",
      "0.9777777777777777 \n",
      "\n",
      "Model LogisticRegression results With transform TSNE:\n",
      "0.9066666666666666 \n",
      "\n"
     ]
    }
   ],
   "source": [
    "accuracy_pca = print_metrics(predicts_transformed['TSNE'], models_transformed['TSNE'].keys(), y_test, transformer_name='TSNE', message = 'With transform')"
   ]
  },
  {
   "cell_type": "code",
   "execution_count": 12,
   "metadata": {},
   "outputs": [
    {
     "name": "stdout",
     "output_type": "stream",
     "text": [
      "Для сохранения 90% дисперсии алгоритму PCA необходимо 21 шт. компонент\n"
     ]
    }
   ],
   "source": [
    "n_components_for_var =transformers['PCA'].n_components_\n",
    "print(f'Для сохранения 90% дисперсии алгоритму PCA необходимо {n_components_for_var} шт. компонент')"
   ]
  },
  {
   "cell_type": "code",
   "execution_count": 13,
   "metadata": {},
   "outputs": [
    {
     "name": "stdout",
     "output_type": "stream",
     "text": [
      "Алгоритм PCA:\n",
      "X_train: 0.040997982025146484 сек\n",
      "X_test: 0.0 сек\n"
     ]
    }
   ],
   "source": [
    "print_time_report(times, 'PCA')"
   ]
  },
  {
   "cell_type": "code",
   "execution_count": 14,
   "metadata": {},
   "outputs": [
    {
     "name": "stdout",
     "output_type": "stream",
     "text": [
      "Алгоритм TSNE:\n",
      "X_train: 26.926623106002808 сек\n"
     ]
    }
   ],
   "source": [
    "print_time_report(times, 'TSNE')"
   ]
  },
  {
   "cell_type": "markdown",
   "metadata": {},
   "source": [
    "### Итоги:\n",
    "#### Улучшение результатов:\n",
    "- Для **DecisionTreeClassifier** и **LogisticRegression** алгоритм TSNE и PCA дает прирост метрики accuracy (TSNE лучше)\n",
    "- Для **SVC** методы уменьшения размерности, наоборот, ухудшили результаты\n",
    "- **SVC** без уменьшения размерности дает лучшие результаты\n",
    "#### Для сохранения 90% дисперии PCA алгоритму необходимо: \n",
    "- 21 компонента \n",
    "#### Время работы алгоритмов уменьшения размерности:\n",
    "- **TSNE** в сумме: 26.926623106002808 сек\n",
    "- **PCA** в сумме: 0.040997982025146484 сек"
   ]
  },
  {
   "cell_type": "code",
   "execution_count": null,
   "metadata": {},
   "outputs": [],
   "source": []
  }
 ],
 "metadata": {
  "kernelspec": {
   "display_name": "venv",
   "language": "python",
   "name": "python3"
  },
  "language_info": {
   "codemirror_mode": {
    "name": "ipython",
    "version": 3
   },
   "file_extension": ".py",
   "mimetype": "text/x-python",
   "name": "python",
   "nbconvert_exporter": "python",
   "pygments_lexer": "ipython3",
   "version": "3.11.0"
  }
 },
 "nbformat": 4,
 "nbformat_minor": 2
}
